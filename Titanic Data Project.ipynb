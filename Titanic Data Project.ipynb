{
 "cells": [
  {
   "cell_type": "markdown",
   "metadata": {},
   "source": [
    "# Analysis of Titanic Passengers \n",
    "> The Titanic Data provides us with the insights on the details on the passengers travelling aboard The Titanic and the no. of survivors. \n",
    "The main question that can be answered is what are the factors that would have played role in the survival of the passenger."
   ]
  },
  {
   "cell_type": "markdown",
   "metadata": {
    "collapsed": true
   },
   "source": [
    "## Loading the necessary libraries and packages"
   ]
  },
  {
   "cell_type": "code",
   "execution_count": 1,
   "metadata": {
    "collapsed": true
   },
   "outputs": [],
   "source": [
    "import numpy as np\n",
    "import pandas as pd\n",
    "import matplotlib.pyplot as plt\n",
    "import seaborn as sns\n",
    "from IPython.display import display"
   ]
  },
  {
   "cell_type": "markdown",
   "metadata": {},
   "source": [
    "# 1. *Loading the titanic_data.csv file in the notebook*"
   ]
  },
  {
   "cell_type": "code",
   "execution_count": 2,
   "metadata": {
    "collapsed": true
   },
   "outputs": [],
   "source": [
    "file = \"C:\\\\Users\\\\####\\\\Titanic Data.csv\"\n",
    "titanic_data = pd.read_csv(file)"
   ]
  },
  {
   "cell_type": "markdown",
   "metadata": {},
   "source": [
    "### Getting an insight on the data by printing the first few entries"
   ]
  },
  {
   "cell_type": "code",
   "execution_count": 3,
   "metadata": {
    "scrolled": true
   },
   "outputs": [
    {
     "data": {
      "text/html": [
       "<div>\n",
       "<style>\n",
       "    .dataframe thead tr:only-child th {\n",
       "        text-align: right;\n",
       "    }\n",
       "\n",
       "    .dataframe thead th {\n",
       "        text-align: left;\n",
       "    }\n",
       "\n",
       "    .dataframe tbody tr th {\n",
       "        vertical-align: top;\n",
       "    }\n",
       "</style>\n",
       "<table border=\"1\" class=\"dataframe\">\n",
       "  <thead>\n",
       "    <tr style=\"text-align: right;\">\n",
       "      <th></th>\n",
       "      <th>PassengerId</th>\n",
       "      <th>Survived</th>\n",
       "      <th>Pclass</th>\n",
       "      <th>Name</th>\n",
       "      <th>Sex</th>\n",
       "      <th>Age</th>\n",
       "      <th>SibSp</th>\n",
       "      <th>Parch</th>\n",
       "      <th>Ticket</th>\n",
       "      <th>Fare</th>\n",
       "      <th>Cabin</th>\n",
       "      <th>Embarked</th>\n",
       "    </tr>\n",
       "  </thead>\n",
       "  <tbody>\n",
       "    <tr>\n",
       "      <th>0</th>\n",
       "      <td>1</td>\n",
       "      <td>0</td>\n",
       "      <td>3</td>\n",
       "      <td>Braund, Mr. Owen Harris</td>\n",
       "      <td>male</td>\n",
       "      <td>22.0</td>\n",
       "      <td>1</td>\n",
       "      <td>0</td>\n",
       "      <td>A/5 21171</td>\n",
       "      <td>7.2500</td>\n",
       "      <td>NaN</td>\n",
       "      <td>S</td>\n",
       "    </tr>\n",
       "    <tr>\n",
       "      <th>1</th>\n",
       "      <td>2</td>\n",
       "      <td>1</td>\n",
       "      <td>1</td>\n",
       "      <td>Cumings, Mrs. John Bradley (Florence Briggs Th...</td>\n",
       "      <td>female</td>\n",
       "      <td>38.0</td>\n",
       "      <td>1</td>\n",
       "      <td>0</td>\n",
       "      <td>PC 17599</td>\n",
       "      <td>71.2833</td>\n",
       "      <td>C85</td>\n",
       "      <td>C</td>\n",
       "    </tr>\n",
       "    <tr>\n",
       "      <th>2</th>\n",
       "      <td>3</td>\n",
       "      <td>1</td>\n",
       "      <td>3</td>\n",
       "      <td>Heikkinen, Miss. Laina</td>\n",
       "      <td>female</td>\n",
       "      <td>26.0</td>\n",
       "      <td>0</td>\n",
       "      <td>0</td>\n",
       "      <td>STON/O2. 3101282</td>\n",
       "      <td>7.9250</td>\n",
       "      <td>NaN</td>\n",
       "      <td>S</td>\n",
       "    </tr>\n",
       "    <tr>\n",
       "      <th>3</th>\n",
       "      <td>4</td>\n",
       "      <td>1</td>\n",
       "      <td>1</td>\n",
       "      <td>Futrelle, Mrs. Jacques Heath (Lily May Peel)</td>\n",
       "      <td>female</td>\n",
       "      <td>35.0</td>\n",
       "      <td>1</td>\n",
       "      <td>0</td>\n",
       "      <td>113803</td>\n",
       "      <td>53.1000</td>\n",
       "      <td>C123</td>\n",
       "      <td>S</td>\n",
       "    </tr>\n",
       "    <tr>\n",
       "      <th>4</th>\n",
       "      <td>5</td>\n",
       "      <td>0</td>\n",
       "      <td>3</td>\n",
       "      <td>Allen, Mr. William Henry</td>\n",
       "      <td>male</td>\n",
       "      <td>35.0</td>\n",
       "      <td>0</td>\n",
       "      <td>0</td>\n",
       "      <td>373450</td>\n",
       "      <td>8.0500</td>\n",
       "      <td>NaN</td>\n",
       "      <td>S</td>\n",
       "    </tr>\n",
       "    <tr>\n",
       "      <th>5</th>\n",
       "      <td>6</td>\n",
       "      <td>0</td>\n",
       "      <td>3</td>\n",
       "      <td>Moran, Mr. James</td>\n",
       "      <td>male</td>\n",
       "      <td>NaN</td>\n",
       "      <td>0</td>\n",
       "      <td>0</td>\n",
       "      <td>330877</td>\n",
       "      <td>8.4583</td>\n",
       "      <td>NaN</td>\n",
       "      <td>Q</td>\n",
       "    </tr>\n",
       "    <tr>\n",
       "      <th>6</th>\n",
       "      <td>7</td>\n",
       "      <td>0</td>\n",
       "      <td>1</td>\n",
       "      <td>McCarthy, Mr. Timothy J</td>\n",
       "      <td>male</td>\n",
       "      <td>54.0</td>\n",
       "      <td>0</td>\n",
       "      <td>0</td>\n",
       "      <td>17463</td>\n",
       "      <td>51.8625</td>\n",
       "      <td>E46</td>\n",
       "      <td>S</td>\n",
       "    </tr>\n",
       "    <tr>\n",
       "      <th>7</th>\n",
       "      <td>8</td>\n",
       "      <td>0</td>\n",
       "      <td>3</td>\n",
       "      <td>Palsson, Master. Gosta Leonard</td>\n",
       "      <td>male</td>\n",
       "      <td>2.0</td>\n",
       "      <td>3</td>\n",
       "      <td>1</td>\n",
       "      <td>349909</td>\n",
       "      <td>21.0750</td>\n",
       "      <td>NaN</td>\n",
       "      <td>S</td>\n",
       "    </tr>\n",
       "    <tr>\n",
       "      <th>8</th>\n",
       "      <td>9</td>\n",
       "      <td>1</td>\n",
       "      <td>3</td>\n",
       "      <td>Johnson, Mrs. Oscar W (Elisabeth Vilhelmina Berg)</td>\n",
       "      <td>female</td>\n",
       "      <td>27.0</td>\n",
       "      <td>0</td>\n",
       "      <td>2</td>\n",
       "      <td>347742</td>\n",
       "      <td>11.1333</td>\n",
       "      <td>NaN</td>\n",
       "      <td>S</td>\n",
       "    </tr>\n",
       "    <tr>\n",
       "      <th>9</th>\n",
       "      <td>10</td>\n",
       "      <td>1</td>\n",
       "      <td>2</td>\n",
       "      <td>Nasser, Mrs. Nicholas (Adele Achem)</td>\n",
       "      <td>female</td>\n",
       "      <td>14.0</td>\n",
       "      <td>1</td>\n",
       "      <td>0</td>\n",
       "      <td>237736</td>\n",
       "      <td>30.0708</td>\n",
       "      <td>NaN</td>\n",
       "      <td>C</td>\n",
       "    </tr>\n",
       "  </tbody>\n",
       "</table>\n",
       "</div>"
      ],
      "text/plain": [
       "   PassengerId  Survived  Pclass  \\\n",
       "0            1         0       3   \n",
       "1            2         1       1   \n",
       "2            3         1       3   \n",
       "3            4         1       1   \n",
       "4            5         0       3   \n",
       "5            6         0       3   \n",
       "6            7         0       1   \n",
       "7            8         0       3   \n",
       "8            9         1       3   \n",
       "9           10         1       2   \n",
       "\n",
       "                                                Name     Sex   Age  SibSp  \\\n",
       "0                            Braund, Mr. Owen Harris    male  22.0      1   \n",
       "1  Cumings, Mrs. John Bradley (Florence Briggs Th...  female  38.0      1   \n",
       "2                             Heikkinen, Miss. Laina  female  26.0      0   \n",
       "3       Futrelle, Mrs. Jacques Heath (Lily May Peel)  female  35.0      1   \n",
       "4                           Allen, Mr. William Henry    male  35.0      0   \n",
       "5                                   Moran, Mr. James    male   NaN      0   \n",
       "6                            McCarthy, Mr. Timothy J    male  54.0      0   \n",
       "7                     Palsson, Master. Gosta Leonard    male   2.0      3   \n",
       "8  Johnson, Mrs. Oscar W (Elisabeth Vilhelmina Berg)  female  27.0      0   \n",
       "9                Nasser, Mrs. Nicholas (Adele Achem)  female  14.0      1   \n",
       "\n",
       "   Parch            Ticket     Fare Cabin Embarked  \n",
       "0      0         A/5 21171   7.2500   NaN        S  \n",
       "1      0          PC 17599  71.2833   C85        C  \n",
       "2      0  STON/O2. 3101282   7.9250   NaN        S  \n",
       "3      0            113803  53.1000  C123        S  \n",
       "4      0            373450   8.0500   NaN        S  \n",
       "5      0            330877   8.4583   NaN        Q  \n",
       "6      0             17463  51.8625   E46        S  \n",
       "7      1            349909  21.0750   NaN        S  \n",
       "8      2            347742  11.1333   NaN        S  \n",
       "9      0            237736  30.0708   NaN        C  "
      ]
     },
     "execution_count": 3,
     "metadata": {},
     "output_type": "execute_result"
    }
   ],
   "source": [
    "titanic_data.head(10)"
   ]
  },
  {
   "cell_type": "markdown",
   "metadata": {
    "collapsed": true
   },
   "source": [
    "## Explanation of the columns of the above dataframe\n",
    "**The Following information is obtained from [Kaggle](https://www.kaggle.com/c/titanic/data)**\n",
    "> ### Data Dictionary\n",
    "\n",
    "| Serial No. | Variable | Definition                                 | Key                                            |\n",
    "|------------|----------|--------------------------------------------|------------------------------------------------|\n",
    "| 1          | Survived | Survival                                   | 0 = No, 1 = Yes                                |\n",
    "| 2          | Pclass   | Ticket class                               | 1 = First, 2 = Second, 3 = Third               |\n",
    "| 3          | Sex      | Sex                                        |                                                |\n",
    "| 4          | Age      | Age in years                               |                                                |\n",
    "| 5          | SibSp    | # of siblings / spouses aboard the Titanic |                                                |\n",
    "| 6          | Parch    | # of parents / children aboard the Titanic |                                                |\n",
    "| 7          | Ticket   | Ticket number                              |                                                |\n",
    "| 8          | Fare     | Passenger fare                             |                                                |\n",
    "| 9          | Cabin    | Cabin number                               |                                                |\n",
    "| 10         | Embarked | Port of Embarkation                        | C = Cherbourg, Q = Queenstown, S = Southampton |\n",
    "-----------------------------------------------------------------------------------------------------------------------------\n",
    "\n",
    "*The markdown table was generated using source : [Table generator](http://www.tablesgenerator.com/markdown_tables#)*\n",
    "\n",
    "**Variable Notes**\n",
    "\n",
    ">__*pclass*__: A proxy for socio-economic status (SES)\n",
    "1st = Upper\n",
    "2nd = Middle\n",
    "3rd = Lower\n",
    "\n",
    ">__*age*__: Age is fractional if less than 1. If the age is estimated, is it in the form of xx.5\n",
    "\n",
    ">__*sibsp*__: The dataset defines family relations in this way...\n",
    "Sibling = brother, sister, stepbrother, stepsister\n",
    "Spouse = husband, wife (mistresses and fiancés were ignored)\n",
    "\n",
    ">__*parch*__: The dataset defines family relations in this way...\n",
    "Parent = mother, father\n",
    "Child = daughter, son, stepdaughter, stepson\n",
    "Some children travelled only with a nanny, therefore parch=0 for them."
   ]
  },
  {
   "cell_type": "markdown",
   "metadata": {},
   "source": [
    "# Posing the Problem\n",
    "> **The main question that can be answered is what factors would have played role in the survival of the passenger aboard the Titanic.**\n",
    "Looking at the data, the main factors that would have played role are the passenger class, sex, age. \n",
    "\n",
    "## Variable Selection for analysis\n",
    "> So, my three __*Primary Variable*__ choices to answer the question are:\n",
    "1. Passenger Class\n",
    "2. Passenger Sex\n",
    "3. Passenger Age\n",
    "\n",
    "> The __*Secondary Variables*__ choices to analyze are:\n",
    "1. Family Size on board (Family_members variable is added in later part).\n",
    "2. City to which the Passenger belonged (Station of Embarking).\n",
    "\n",
    "> __*The other variables that could have played a vital role in the survival is the **Passenger's Cabin**, but as the blueprint of the the ship isn't available in the data, to analyse whether the passengers, whose cabins lied near the life boats had a better chance of survival, I wouldn't be analysing that factor.*__\n"
   ]
  },
  {
   "cell_type": "markdown",
   "metadata": {},
   "source": [
    "# 2. *Data Wrangling*\n",
    "> First we will look for the missing data points"
   ]
  },
  {
   "cell_type": "code",
   "execution_count": 4,
   "metadata": {},
   "outputs": [
    {
     "name": "stdout",
     "output_type": "stream",
     "text": [
      "<class 'pandas.core.frame.DataFrame'>\n",
      "RangeIndex: 891 entries, 0 to 890\n",
      "Data columns (total 12 columns):\n",
      "PassengerId    891 non-null int64\n",
      "Survived       891 non-null int64\n",
      "Pclass         891 non-null int64\n",
      "Name           891 non-null object\n",
      "Sex            891 non-null object\n",
      "Age            714 non-null float64\n",
      "SibSp          891 non-null int64\n",
      "Parch          891 non-null int64\n",
      "Ticket         891 non-null object\n",
      "Fare           891 non-null float64\n",
      "Cabin          204 non-null object\n",
      "Embarked       889 non-null object\n",
      "dtypes: float64(2), int64(5), object(5)\n",
      "memory usage: 66.2+ KB\n"
     ]
    }
   ],
   "source": [
    "titanic_data.info()"
   ]
  },
  {
   "cell_type": "markdown",
   "metadata": {},
   "source": [
    "> Looking at the above information, it is observed that the **age, cabin and embarked** variables are missing entries."
   ]
  },
  {
   "cell_type": "markdown",
   "metadata": {},
   "source": [
    "> ### _Analysis of missing \"Embarked\" Variable._"
   ]
  },
  {
   "cell_type": "code",
   "execution_count": 5,
   "metadata": {},
   "outputs": [
    {
     "data": {
      "text/html": [
       "<div>\n",
       "<style>\n",
       "    .dataframe thead tr:only-child th {\n",
       "        text-align: right;\n",
       "    }\n",
       "\n",
       "    .dataframe thead th {\n",
       "        text-align: left;\n",
       "    }\n",
       "\n",
       "    .dataframe tbody tr th {\n",
       "        vertical-align: top;\n",
       "    }\n",
       "</style>\n",
       "<table border=\"1\" class=\"dataframe\">\n",
       "  <thead>\n",
       "    <tr style=\"text-align: right;\">\n",
       "      <th></th>\n",
       "      <th>PassengerId</th>\n",
       "      <th>Survived</th>\n",
       "      <th>Pclass</th>\n",
       "      <th>Name</th>\n",
       "      <th>Sex</th>\n",
       "      <th>Age</th>\n",
       "      <th>SibSp</th>\n",
       "      <th>Parch</th>\n",
       "      <th>Ticket</th>\n",
       "      <th>Fare</th>\n",
       "      <th>Cabin</th>\n",
       "      <th>Embarked</th>\n",
       "    </tr>\n",
       "  </thead>\n",
       "  <tbody>\n",
       "    <tr>\n",
       "      <th>61</th>\n",
       "      <td>62</td>\n",
       "      <td>1</td>\n",
       "      <td>1</td>\n",
       "      <td>Icard, Miss. Amelie</td>\n",
       "      <td>female</td>\n",
       "      <td>38.0</td>\n",
       "      <td>0</td>\n",
       "      <td>0</td>\n",
       "      <td>113572</td>\n",
       "      <td>80.0</td>\n",
       "      <td>B28</td>\n",
       "      <td>NaN</td>\n",
       "    </tr>\n",
       "    <tr>\n",
       "      <th>829</th>\n",
       "      <td>830</td>\n",
       "      <td>1</td>\n",
       "      <td>1</td>\n",
       "      <td>Stone, Mrs. George Nelson (Martha Evelyn)</td>\n",
       "      <td>female</td>\n",
       "      <td>62.0</td>\n",
       "      <td>0</td>\n",
       "      <td>0</td>\n",
       "      <td>113572</td>\n",
       "      <td>80.0</td>\n",
       "      <td>B28</td>\n",
       "      <td>NaN</td>\n",
       "    </tr>\n",
       "  </tbody>\n",
       "</table>\n",
       "</div>"
      ],
      "text/plain": [
       "     PassengerId  Survived  Pclass                                       Name  \\\n",
       "61            62         1       1                        Icard, Miss. Amelie   \n",
       "829          830         1       1  Stone, Mrs. George Nelson (Martha Evelyn)   \n",
       "\n",
       "        Sex   Age  SibSp  Parch  Ticket  Fare Cabin Embarked  \n",
       "61   female  38.0      0      0  113572  80.0   B28      NaN  \n",
       "829  female  62.0      0      0  113572  80.0   B28      NaN  "
      ]
     },
     "execution_count": 5,
     "metadata": {},
     "output_type": "execute_result"
    }
   ],
   "source": [
    "titanic_data[titanic_data['Embarked'].isnull()]"
   ]
  },
  {
   "cell_type": "markdown",
   "metadata": {},
   "source": [
    "### Looking at the Passengers number from all the three Embarkation Cities."
   ]
  },
  {
   "cell_type": "code",
   "execution_count": 6,
   "metadata": {},
   "outputs": [
    {
     "name": "stdout",
     "output_type": "stream",
     "text": [
      "Sex     Embarked\n",
      "female  C           43\n",
      "        Q            1\n",
      "        S           48\n",
      "male    C           42\n",
      "        Q            1\n",
      "        S           79\n",
      "dtype: int64\n"
     ]
    }
   ],
   "source": [
    "print(titanic_data[titanic_data['Pclass'] == 1].groupby(['Sex','Embarked']).size())"
   ]
  },
  {
   "cell_type": "markdown",
   "metadata": {},
   "source": [
    "> ### Consclusion: \n",
    "> **_As most of the Female Passengers who survived were from Southampton, and the Data is only missing for 2 entries, the EMBARKED variable can be filled with \"S\" for both the entries as they were travelling in the same cabin, and it is most probable that they embarked from same city._**"
   ]
  },
  {
   "cell_type": "code",
   "execution_count": 7,
   "metadata": {
    "collapsed": true
   },
   "outputs": [],
   "source": [
    "# substituting \"S\" for both the missing entries.\n",
    "titanic_data['Embarked'].fillna(\"S\", inplace = True)"
   ]
  },
  {
   "cell_type": "markdown",
   "metadata": {},
   "source": [
    ">### _Analysis of missing \"Age\" Variable._\n",
    "> The __Age__ variable has many missing entries and the filling the appropriate entry is crucial here.\n",
    "\n",
    "> The age variable can be filled in ways:\n",
    "1. Analysing for the **Embarkation** point and finding the mean age of the passengers boarded from that city.\n",
    "2. Considering the mean age of the survived passengers and perished passengers and filling the corresponding age for missing entries.\n",
    "3. The choice incorporated by me is the mean age by grouping the **Passenger's Class** and **Gender**."
   ]
  },
  {
   "cell_type": "code",
   "execution_count": 8,
   "metadata": {
    "collapsed": true
   },
   "outputs": [],
   "source": [
    "'''Now Filling in the missing age variable'''\n",
    "\n",
    "mean_age = titanic_data.groupby([\"Pclass\", \"Sex\"])[\"Age\"].mean()\n",
    "def missing_age(row):\n",
    "    if pd.isnull(row['Age']):\n",
    "        return mean_age[row['Pclass'], row['Sex']]\n",
    "    else:\n",
    "        return row['Age']\n",
    "titanic_data['Age'] = titanic_data.apply(missing_age, axis = 1)"
   ]
  },
  {
   "cell_type": "markdown",
   "metadata": {},
   "source": [
    "> ### __*The \"SibSp\" and \"Parch\" variables can be clubbed in a single variable \"Family members\" which would be the addition of the two variables. As there is no value missing in the \"SibSp\" and \"Parch\" varables, simple vector addition can be performed using the \"+\" operator.*__"
   ]
  },
  {
   "cell_type": "code",
   "execution_count": 9,
   "metadata": {
    "collapsed": true
   },
   "outputs": [],
   "source": [
    "# Clubbing the Siblings and Parent/Child Variable together in new variable \"Family Members.\"\n",
    "titanic_data['Family members'] = titanic_data['SibSp'] + titanic_data['Parch']"
   ]
  },
  {
   "cell_type": "markdown",
   "metadata": {},
   "source": [
    "> ### Analysis of the missing _Cabin Variable_\n",
    "> The _Cabin_ variable is missing in most of the entries. The Cabin variable could be important in analysis as the cabin location near/far from the lifeboats could play an important role in the Survival, but as the blueprint of the Ship isn't available, therefore, I won't be analysing this variable, so it is deleted from the original dataset to ease the analysis.\n",
    "> ###  I won't be analysing the *Ticket*, *Fare*,  variables, so these variables are deleted from the Original Dataset to make the data look more clean.\n",
    "> The **Sibsp** and **Parch** variables are also removed by adding another variable incorporating the two variables together in **Family Members.**"
   ]
  },
  {
   "cell_type": "code",
   "execution_count": 10,
   "metadata": {
    "collapsed": true
   },
   "outputs": [],
   "source": [
    "# Deleting the CABIN variable, along with the TICKET, FARE, PASSENGERID columns.\n",
    "titanic_data.drop(['Cabin', 'Ticket', 'Fare','SibSp','Parch'], axis = 1, inplace= True)"
   ]
  },
  {
   "cell_type": "markdown",
   "metadata": {},
   "source": [
    "## Cleaning the Data\n",
    "> Changing the values in the dataframe with more suitable substitutions and printing out the final data for analysis.\n",
    "1. The **Suvived** Variable is mapped as **0** to **False** and **1** to **True.**\n",
    "2. The **Pclass** variable is mapped as **1** to **First**, **2** to **Second** and **3** to **Third.**\n",
    "3. The **Embarked** variable is mapped as **S** to **Southampton**, **C** to **Cherbourg** and **Q** to **Queenstown.**"
   ]
  },
  {
   "cell_type": "code",
   "execution_count": 11,
   "metadata": {},
   "outputs": [],
   "source": [
    "survived = {0: False, 1: True}\n",
    "pclass = {1: \"First\", 2: \"Second\", 3: \"Third\"}\n",
    "embarked = {\"S\": \"Southampton\", \"C\": \"Cherbourg\", \"Q\":\"Queenstown\"}\n",
    "def clean_data(row):\n",
    "    row['Survived'] = survived[row['Survived']]\n",
    "    row['Pclass'] = pclass[row['Pclass']]\n",
    "    row['Embarked'] = embarked[row['Embarked']]\n",
    "    return row\n",
    "final_titanic_data = titanic_data.apply(clean_data, axis = 1)\n"
   ]
  },
  {
   "cell_type": "markdown",
   "metadata": {},
   "source": [
    "### A look at the cleaned final data"
   ]
  },
  {
   "cell_type": "code",
   "execution_count": 12,
   "metadata": {},
   "outputs": [
    {
     "data": {
      "text/html": [
       "<div>\n",
       "<style>\n",
       "    .dataframe thead tr:only-child th {\n",
       "        text-align: right;\n",
       "    }\n",
       "\n",
       "    .dataframe thead th {\n",
       "        text-align: left;\n",
       "    }\n",
       "\n",
       "    .dataframe tbody tr th {\n",
       "        vertical-align: top;\n",
       "    }\n",
       "</style>\n",
       "<table border=\"1\" class=\"dataframe\">\n",
       "  <thead>\n",
       "    <tr style=\"text-align: right;\">\n",
       "      <th></th>\n",
       "      <th>PassengerId</th>\n",
       "      <th>Survived</th>\n",
       "      <th>Pclass</th>\n",
       "      <th>Name</th>\n",
       "      <th>Sex</th>\n",
       "      <th>Age</th>\n",
       "      <th>Embarked</th>\n",
       "      <th>Family members</th>\n",
       "    </tr>\n",
       "  </thead>\n",
       "  <tbody>\n",
       "    <tr>\n",
       "      <th>0</th>\n",
       "      <td>1</td>\n",
       "      <td>False</td>\n",
       "      <td>Third</td>\n",
       "      <td>Braund, Mr. Owen Harris</td>\n",
       "      <td>male</td>\n",
       "      <td>22.000000</td>\n",
       "      <td>Southampton</td>\n",
       "      <td>1</td>\n",
       "    </tr>\n",
       "    <tr>\n",
       "      <th>1</th>\n",
       "      <td>2</td>\n",
       "      <td>True</td>\n",
       "      <td>First</td>\n",
       "      <td>Cumings, Mrs. John Bradley (Florence Briggs Th...</td>\n",
       "      <td>female</td>\n",
       "      <td>38.000000</td>\n",
       "      <td>Cherbourg</td>\n",
       "      <td>1</td>\n",
       "    </tr>\n",
       "    <tr>\n",
       "      <th>2</th>\n",
       "      <td>3</td>\n",
       "      <td>True</td>\n",
       "      <td>Third</td>\n",
       "      <td>Heikkinen, Miss. Laina</td>\n",
       "      <td>female</td>\n",
       "      <td>26.000000</td>\n",
       "      <td>Southampton</td>\n",
       "      <td>0</td>\n",
       "    </tr>\n",
       "    <tr>\n",
       "      <th>3</th>\n",
       "      <td>4</td>\n",
       "      <td>True</td>\n",
       "      <td>First</td>\n",
       "      <td>Futrelle, Mrs. Jacques Heath (Lily May Peel)</td>\n",
       "      <td>female</td>\n",
       "      <td>35.000000</td>\n",
       "      <td>Southampton</td>\n",
       "      <td>1</td>\n",
       "    </tr>\n",
       "    <tr>\n",
       "      <th>4</th>\n",
       "      <td>5</td>\n",
       "      <td>False</td>\n",
       "      <td>Third</td>\n",
       "      <td>Allen, Mr. William Henry</td>\n",
       "      <td>male</td>\n",
       "      <td>35.000000</td>\n",
       "      <td>Southampton</td>\n",
       "      <td>0</td>\n",
       "    </tr>\n",
       "    <tr>\n",
       "      <th>5</th>\n",
       "      <td>6</td>\n",
       "      <td>False</td>\n",
       "      <td>Third</td>\n",
       "      <td>Moran, Mr. James</td>\n",
       "      <td>male</td>\n",
       "      <td>26.507589</td>\n",
       "      <td>Queenstown</td>\n",
       "      <td>0</td>\n",
       "    </tr>\n",
       "    <tr>\n",
       "      <th>6</th>\n",
       "      <td>7</td>\n",
       "      <td>False</td>\n",
       "      <td>First</td>\n",
       "      <td>McCarthy, Mr. Timothy J</td>\n",
       "      <td>male</td>\n",
       "      <td>54.000000</td>\n",
       "      <td>Southampton</td>\n",
       "      <td>0</td>\n",
       "    </tr>\n",
       "    <tr>\n",
       "      <th>7</th>\n",
       "      <td>8</td>\n",
       "      <td>False</td>\n",
       "      <td>Third</td>\n",
       "      <td>Palsson, Master. Gosta Leonard</td>\n",
       "      <td>male</td>\n",
       "      <td>2.000000</td>\n",
       "      <td>Southampton</td>\n",
       "      <td>4</td>\n",
       "    </tr>\n",
       "  </tbody>\n",
       "</table>\n",
       "</div>"
      ],
      "text/plain": [
       "   PassengerId  Survived Pclass  \\\n",
       "0            1     False  Third   \n",
       "1            2      True  First   \n",
       "2            3      True  Third   \n",
       "3            4      True  First   \n",
       "4            5     False  Third   \n",
       "5            6     False  Third   \n",
       "6            7     False  First   \n",
       "7            8     False  Third   \n",
       "\n",
       "                                                Name     Sex        Age  \\\n",
       "0                            Braund, Mr. Owen Harris    male  22.000000   \n",
       "1  Cumings, Mrs. John Bradley (Florence Briggs Th...  female  38.000000   \n",
       "2                             Heikkinen, Miss. Laina  female  26.000000   \n",
       "3       Futrelle, Mrs. Jacques Heath (Lily May Peel)  female  35.000000   \n",
       "4                           Allen, Mr. William Henry    male  35.000000   \n",
       "5                                   Moran, Mr. James    male  26.507589   \n",
       "6                            McCarthy, Mr. Timothy J    male  54.000000   \n",
       "7                     Palsson, Master. Gosta Leonard    male   2.000000   \n",
       "\n",
       "      Embarked  Family members  \n",
       "0  Southampton               1  \n",
       "1    Cherbourg               1  \n",
       "2  Southampton               0  \n",
       "3  Southampton               1  \n",
       "4  Southampton               0  \n",
       "5   Queenstown               0  \n",
       "6  Southampton               0  \n",
       "7  Southampton               4  "
      ]
     },
     "execution_count": 12,
     "metadata": {},
     "output_type": "execute_result"
    }
   ],
   "source": [
    "final_titanic_data.head(8)"
   ]
  },
  {
   "cell_type": "markdown",
   "metadata": {},
   "source": [
    "# 3. *Data Analysis*\n",
    "> So, my three __*Primary Variable*__ choices to answer the question are:\n",
    "1. Passenger Class\n",
    "2. Passenger Sex\n",
    "3. Passenger Age\n",
    "\n",
    "> The __*Secondary Variables*__ choices to analyze are:\n",
    "1. Family Size on board (Family_members variable is added in later part).\n",
    "2. City to which the Passenger belonged (Station of Embarking)."
   ]
  },
  {
   "cell_type": "markdown",
   "metadata": {},
   "source": [
    "## Did the *Socio-Economic Class* play role in deciding the survival of the passenger?\n",
    "> It is analysed by plotting the survivors and non-survivors for each class, that is, \"First\", \"Second\", \"Third\"."
   ]
  },
  {
   "cell_type": "code",
   "execution_count": 13,
   "metadata": {},
   "outputs": [
    {
     "name": "stdout",
     "output_type": "stream",
     "text": [
      "First Class\n",
      "No. of passengers = 216\n",
      "No. of survivors = 136\n",
      "Percentage of survivors = 62.96%\n",
      "\n",
      "Second Class\n",
      "No. of passengers = 184\n",
      "No. of survivors = 87\n",
      "Percentage of survivors = 47.28%\n",
      "\n",
      "Third Class\n",
      "No. of passengers = 491\n",
      "No. of survivors = 119\n",
      "Percentage of survivors = 24.24%\n"
     ]
    },
    {
     "data": {
      "image/png": "[encoded data removed]",
      "text/plain": [
       "<matplotlib.figure.Figure at 0x818df10>"
      ]
     },
     "metadata": {},
     "output_type": "display_data"
    }
   ],
   "source": [
    "%matplotlib inline\n",
    "# First Class Passengers\n",
    "first_class_passengers = final_titanic_data[final_titanic_data['Pclass'] == 'First']\n",
    "first_class_survivors = first_class_passengers[first_class_passengers['Survived'] == True]\n",
    "first_class_non_survivors = first_class_passengers[first_class_passengers['Survived'] == False]\n",
    "\n",
    "# Second Class Passengers\n",
    "second_class_passengers = final_titanic_data[final_titanic_data['Pclass'] == 'Second']\n",
    "second_class_survivors = second_class_passengers[second_class_passengers['Survived'] == True]\n",
    "second_class_non_survivors = second_class_passengers[second_class_passengers['Survived'] == False]\n",
    "\n",
    "# Third Class Passengers\n",
    "third_class_passengers = final_titanic_data[final_titanic_data['Pclass'] == 'Third']\n",
    "third_class_survivors = third_class_passengers[third_class_passengers['Survived'] == True]\n",
    "third_class_non_survivors = third_class_passengers[third_class_passengers['Survived'] == False]\n",
    "\n",
    "survivors = np.array([len(first_class_survivors), len(second_class_survivors), len(third_class_survivors)])\n",
    "non_survivors = np.array([len(first_class_non_survivors), len(second_class_non_survivors), len(third_class_non_survivors)])\n",
    "\n",
    "print(\"First Class\")\n",
    "print('No. of passengers = {}'.format(len(first_class_passengers)))\n",
    "print('No. of survivors = {}'.format(len(first_class_survivors)))\n",
    "print('Percentage of survivors = {}%'.format(round(len(first_class_survivors)/len(first_class_passengers)*100, 2)))\n",
    "print()\n",
    "print(\"Second Class\")\n",
    "print('No. of passengers = {}'.format(len(second_class_passengers)))\n",
    "print('No. of survivors = {}'.format(len(second_class_survivors)))\n",
    "print('Percentage of survivors = {}%'.format(round(len(second_class_survivors)/len(second_class_passengers)*100, 2)))\n",
    "print()\n",
    "print(\"Third Class\")\n",
    "print('No. of passengers = {}'.format(len(third_class_passengers)))\n",
    "print('No. of survivors = {}'.format(len(third_class_survivors)))\n",
    "print('Percentage of survivors = {}%'.format(round(len(third_class_survivors)/len(third_class_passengers)*100, 2)))\n",
    "\n",
    "\n",
    "# Plotting the values\n",
    "N = 3\n",
    "ind = np.arange(N)\n",
    "width = 0.4\n",
    "\n",
    "fig, ax = plt.subplots(figsize=(10,7))\n",
    "plot1 = plt.bar(ind, survivors, width, color = 'g', alpha = 0.58)\n",
    "plot2 = plt.bar(ind + width, non_survivors, width, color = 'r', alpha = 0.58)\n",
    "ax.set_ylabel('No. of Passengers', fontsize = 16)\n",
    "ax.set_title('Count of Survivors by Class', fontsize = 16)\n",
    "ax.set_xticks(ind + width / 2)\n",
    "ax.set_xticklabels(('First Class', 'Second Class', 'Third Class'), fontsize = 16)\n",
    "ax.legend((plot1[0], plot2[0]), ('Survivors', 'Non-Survivors'), fontsize = 13)\n",
    "plt.show()"
   ]
  },
  {
   "cell_type": "markdown",
   "metadata": {
    "collapsed": true
   },
   "source": [
    "## Observation\n",
    "1. It is clear from the Bar-Graph and from the Stats too that the **First Class** passengers were preferred more over other class Passengers, **Second class** and **Third class**, with an approx. 63% as compared to 47% and 24% resp.\n",
    "2. The percentage from the third class is the least with mere 24.23 percent.\n",
    "3. But the number of survivors are close to each other shows that comparable number of person were chosen from each Class.\n",
    "\n",
    "> ### Result : As per my analysis, what I propose is that the First Class passengers were preferred in the beginning of the rescue operation as they have the most number but as the Third Class Passengers were at a much greater majority and being neglected would have created an outrage amongst them, that made the officials choose them in the latter part of the operation. In this process the Second Class Passengers with the least number would have been neglected even though they have a significant survival percentage. "
   ]
  },
  {
   "cell_type": "markdown",
   "metadata": {
    "collapsed": true
   },
   "source": [
    "## Did the *Gender* play role in deciding the survival of the passenger?\n",
    "> It is analysed by plotting the survivors and non-survivors for both **Men** and **Women**."
   ]
  },
  {
   "cell_type": "code",
   "execution_count": 14,
   "metadata": {},
   "outputs": [
    {
     "name": "stdout",
     "output_type": "stream",
     "text": [
      "Female Passengers\n",
      "No. of passengers = 314\n",
      "No. of survivors = 233\n",
      "Survival Percentage = 74.2%\n",
      "\n",
      "Male Passengers\n",
      "No. of passengers = 577\n",
      "No. of survivors = 109\n",
      "Survival Percentage = 18.89%\n"
     ]
    },
    {
     "data": {
      "image/png": "[encoded data removed]",
      "text/plain": [
       "<matplotlib.figure.Figure at 0x817c990>"
      ]
     },
     "metadata": {},
     "output_type": "display_data"
    }
   ],
   "source": [
    "# Female Passengers\n",
    "female_passengers = final_titanic_data[final_titanic_data['Sex'] == 'female']\n",
    "female_survivors = female_passengers[female_passengers['Survived'] == True]\n",
    "female_non_survivors = female_passengers[female_passengers['Survived'] == False]\n",
    "\n",
    "# Male Passengers\n",
    "male_passengers = final_titanic_data[final_titanic_data['Sex'] == 'male']\n",
    "male_survivors = male_passengers[male_passengers['Survived'] == True]\n",
    "male_non_survivors = male_passengers[male_passengers['Survived'] == False]\n",
    "\n",
    "survivors = np.array([len(female_survivors), len(male_survivors)])\n",
    "non_survivors = np.array([len(female_non_survivors), len(male_non_survivors)])\n",
    "\n",
    "print(\"Female Passengers\")\n",
    "print('No. of passengers = {}'.format(len(female_passengers)))\n",
    "print('No. of survivors = {}'.format(len(female_survivors)))\n",
    "print('Survival Percentage = {}%'.format(round(len(female_survivors)/len(female_passengers)*100, 2)))\n",
    "print()\n",
    "print(\"Male Passengers\")\n",
    "print('No. of passengers = {}'.format(len(male_passengers)))\n",
    "print('No. of survivors = {}'.format(len(male_survivors)))\n",
    "print('Survival Percentage = {}%'.format(round(len(male_survivors)/len(male_passengers)*100, 2)))\n",
    "\n",
    "# Plotting the values\n",
    "N = 2\n",
    "ind = np.arange(N)\n",
    "width = 0.4\n",
    "\n",
    "fig, ax = plt.subplots(figsize=(10,7))\n",
    "plot1 = plt.bar(ind, survivors, width, color = 'g', alpha = 0.58)\n",
    "plot2 = plt.bar(ind + width, non_survivors, width, color = 'r', alpha = 0.58)\n",
    "ax.set_ylabel('No. of Passengers', fontsize = 16)\n",
    "ax.set_title('Count of Survivors by Gender', fontsize = 16)\n",
    "ax.set_xticks(ind + width / 2)\n",
    "ax.set_xticklabels(('Female', 'Male'), fontsize = 16)\n",
    "ax.legend((plot1[0], plot2[0]), ('Survivors', 'Non-Survivors'), fontsize = 14)\n",
    "plt.show()"
   ]
  },
  {
   "cell_type": "markdown",
   "metadata": {},
   "source": [
    "## Observation\n",
    "1. It is clear from the Bar-Graph and from the Stats too that the **Female** passengers were preferred more over **Male**   Passengers, with an approx. 74% survival rate as compared to 18% for males.\n",
    "2. The Male passengers were in much greater number of 577 as sompared to Female Passengers who were a total of 314. But number of female passengers who survived were 233 as compared to 109 for males.\n",
    "\n",
    "> ### Result : Female passengers were chosen first, over males."
   ]
  },
  {
   "cell_type": "markdown",
   "metadata": {},
   "source": [
    "## Did the *Age* play role in deciding the survival of the passenger?"
   ]
  },
  {
   "cell_type": "code",
   "execution_count": 15,
   "metadata": {},
   "outputs": [
    {
     "name": "stdout",
     "output_type": "stream",
     "text": [
      "Stats about the Age of Passengers\n",
      "\n",
      "Total number of Passengers = 891\n",
      "Total number of survivors = 342\n",
      "\n",
      "Oldest Passenger on board = 80.0\n",
      "Oldest Passenger to survive = 80.0\n",
      "Youngest Passenger on board = 0.42\n",
      "Youngest Passenger to survive = 0.42\n",
      "\n",
      "Mean Age of Passengers = 29.32\n",
      "Mean Age of Survivors = 28.18\n"
     ]
    },
    {
     "data": {
      "image/png": "[encoded data removed]",
      "text/plain": [
       "<matplotlib.figure.Figure at 0x81769d0>"
      ]
     },
     "metadata": {},
     "output_type": "display_data"
    }
   ],
   "source": [
    "# Age Data\n",
    "all_age_group = np.array(final_titanic_data['Age'])\n",
    "\n",
    "# Survivors Data\n",
    "survivors = final_titanic_data[final_titanic_data['Survived'] == True]\n",
    "survivors_age_group = np.array(survivors['Age'])\n",
    "\n",
    "print('Stats about the Age of Passengers')\n",
    "print()\n",
    "print('Total number of Passengers = {}'.format(len(all_age_group)))\n",
    "print('Total number of survivors = {}'.format(len(survivors_age_group)))\n",
    "print()\n",
    "print('Oldest Passenger on board = {}'.format(max(all_age_group)))\n",
    "print('Oldest Passenger to survive = {}'.format(max(survivors_age_group)))\n",
    "print('Youngest Passenger on board = {}'.format(min(all_age_group)))\n",
    "print('Youngest Passenger to survive = {}'.format(min(survivors_age_group)))\n",
    "print()\n",
    "print('Mean Age of Passengers = {}'.format(round(np.mean(all_age_group), 2)))\n",
    "print('Mean Age of Survivors = {}'.format(round(np.mean(survivors_age_group), 2)))\n",
    "\n",
    "\n",
    "# Plotting\n",
    "fig, ax = plt.subplots(figsize=(10,7))\n",
    "plot1 = plt.hist(survivors_age_group, color = 'r', alpha = 0.7, bins = range(0, 81, 10))\n",
    "plot2 = plt.hist(all_age_group, color = 'b', alpha = 0.4, bins = range(0, 81, 10))\n",
    "plt.ylabel('No. of Passengers', fontsize = 16)\n",
    "plt.title('Count of Survivors by Age', fontsize = 16)\n",
    "plt.xlabel('Age', fontsize = 16)\n",
    "plt.show()"
   ]
  },
  {
   "cell_type": "markdown",
   "metadata": {},
   "source": [
    "## Observation\n",
    "1. The most of the passengers on board were adults belonging to the age group of 20-40 Years.\n",
    "2. The people above and below 40 years and 30 years of age respectively, were considerably same in number as from the Graph.\n",
    "3. The Age group of 20-40 Years were most of the survivors as seen from the graph with the number being most for 20-30 Years, which is approximately 115, out of 342 total survivors.\n",
    "\n",
    ">### Result : Age did play role in survival."
   ]
  },
  {
   "cell_type": "markdown",
   "metadata": {},
   "source": [
    "## Age and Socio-Economic Class Correlation\n",
    "> The analysis here includes whether the gender choice was uniform among all the classes or for a particular class. So i'll be just considering the data for survivied passengers."
   ]
  },
  {
   "cell_type": "code",
   "execution_count": 16,
   "metadata": {},
   "outputs": [
    {
     "name": "stdout",
     "output_type": "stream",
     "text": [
      "First Class\n",
      "Number of Survivors = 136\n",
      "Number of Female Survivors = 91, Percentage = 66.91%\n",
      "Number of Male Survivors = 45, Percentage = 33.09%\n",
      "\n",
      "Second Class\n",
      "Number of Survivors = 87\n",
      "Number of Female Survivors = 70, Percentage = 80.46%\n",
      "Number of Male Survivors = 17, Percentage = 19.54%\n",
      "\n",
      "Third Class\n",
      "Number of Survivors = 119\n",
      "Number of Female Survivors = 72, Percentage = 60.5%\n",
      "Number of Male Survivors = 47, Percentage = 39.5%\n",
      "\n"
     ]
    },
    {
     "data": {
      "image/png": "[encoded data removed]",
      "text/plain": [
       "<matplotlib.figure.Figure at 0x87130f0>"
      ]
     },
     "metadata": {},
     "output_type": "display_data"
    }
   ],
   "source": [
    "# Survived Passengers Data\n",
    "survived_passenger = final_titanic_data[final_titanic_data['Survived'] == True]\n",
    "\n",
    "#first class\n",
    "first_class = survived_passenger[survived_passenger['Pclass'] == 'First']\n",
    "fc_males = first_class[first_class['Sex'] == 'male']\n",
    "fc_females = first_class[first_class['Sex'] == 'female']\n",
    "\n",
    "#fsecond class\n",
    "second_class = survived_passenger[survived_passenger['Pclass'] == 'Second']\n",
    "sc_males = second_class[second_class['Sex'] == 'male']\n",
    "sc_females = second_class[second_class['Sex'] == 'female']\n",
    "\n",
    "#third class\n",
    "third_class = survived_passenger[survived_passenger['Pclass'] == 'Third']\n",
    "tc_males = third_class[third_class['Sex'] == 'male']\n",
    "tc_females = third_class[third_class['Sex'] == 'female']\n",
    "\n",
    "females = np.array([len(fc_females), len(sc_females), len(tc_females)])\n",
    "males = np.array([len(fc_males), len(sc_males), len(tc_males)])\n",
    "\n",
    "print('First Class')\n",
    "print('Number of Survivors = {}'.format(len(first_class)))\n",
    "print('Number of Female Survivors = {}, Percentage = {}%'.format(len(fc_females), round((len(fc_females)/len(first_class)*100), 2)))\n",
    "print('Number of Male Survivors = {}, Percentage = {}%'.format(len(fc_males), round((len(fc_males)/len(first_class)*100), 2)))\n",
    "print()\n",
    "print('Second Class')\n",
    "print('Number of Survivors = {}'.format(len(second_class)))\n",
    "print('Number of Female Survivors = {}, Percentage = {}%'.format(len(sc_females), round((len(sc_females)/len(second_class)*100), 2)))\n",
    "print('Number of Male Survivors = {}, Percentage = {}%'.format(len(sc_males), round((len(sc_males)/len(second_class)*100), 2)))\n",
    "print()\n",
    "print('Third Class')\n",
    "print('Number of Survivors = {}'.format(len(third_class)))\n",
    "print('Number of Female Survivors = {}, Percentage = {}%'.format(len(tc_females), round((len(tc_females)/len(third_class)*100), 2)))\n",
    "print('Number of Male Survivors = {}, Percentage = {}%'.format(len(tc_males), round((len(tc_males)/len(third_class)*100), 2)))\n",
    "print()\n",
    "\n",
    "#Plotting\n",
    "\n",
    "N = 3\n",
    "ind = np.arange(N)\n",
    "width = 0.4\n",
    "\n",
    "fig, ax = plt.subplots(figsize=(10,7))\n",
    "plot1 = plt.bar(ind, females, width, color = 'm', alpha = 0.58)\n",
    "plot2 = plt.bar(ind + width, males, width, color = 'c', alpha = 0.58)\n",
    "ax.set_ylabel('No. of Passengers', fontsize = 16)\n",
    "ax.set_title('Count of Survivors Sex and Class', fontsize = 16)\n",
    "ax.set_xticks(ind + width / 2)\n",
    "ax.set_xticklabels(('First Class', 'Second Class', 'Third Class'), fontsize = 16)\n",
    "ax.legend((plot1[0], plot2[0]), ('Females', 'Males'), fontsize = 13)\n",
    "plt.show()"
   ]
  },
  {
   "cell_type": "markdown",
   "metadata": {},
   "source": [
    "## Observation\n",
    "1. The Female Passenegrs were more in each Class than Males, who survived, this indicates Females were preferred over males.\n",
    "2. The High rate of Males in Third Class, than Second Class, is questionable. One possible solution can be that the Passengers who survived in Third Class were not a direct part of the Rescue Mission.\n",
    "3. The Male survivors from the Second Class is also questionable here with a very low number. It Indicates that Only the Females were preferred in the operation with Some males too only from the first class only, rest of the Male survivors, survived by other means and not by being the part of the rescue mission."
   ]
  },
  {
   "cell_type": "markdown",
   "metadata": {},
   "source": [
    "## Secondary Variables Analysis\n",
    "> Here I analyse whether Passengers travelling alone had a better chance of survival or passengers travelling along Family\n",
    "> Also I analyse if The City to which the Passengers belonged to, played a role in the Survival.\n",
    "\n",
    "### Solo vs Passengers with Family on board"
   ]
  },
  {
   "cell_type": "code",
   "execution_count": 17,
   "metadata": {},
   "outputs": [
    {
     "name": "stdout",
     "output_type": "stream",
     "text": [
      "Stats\n",
      "\n",
      "Number of Solo Passengers = 537\n",
      "Passengers Survivers Grouping\n",
      "Pclass\n",
      "First     58\n",
      "Second    36\n",
      "Third     69\n",
      "dtype: int64\n",
      "\n",
      "Number of Passengers with Family= 354\n",
      "Passengers Survivers Grouping\n",
      "Pclass\n",
      "First     78\n",
      "Second    51\n",
      "Third     50\n",
      "dtype: int64\n"
     ]
    },
    {
     "data": {
      "image/png": "[encoded data removed]",
      "text/plain": [
       "<matplotlib.figure.Figure at 0x81312f0>"
      ]
     },
     "metadata": {},
     "output_type": "display_data"
    }
   ],
   "source": [
    "# Passengers Travelling Alone\n",
    "solo_passengers = final_titanic_data[final_titanic_data['Family members'] < 1]\n",
    "solo_passengers_survived = solo_passengers[solo_passengers['Survived'] == True]\n",
    "solo_passengers_not_survived = solo_passengers[solo_passengers['Survived'] == False]\n",
    "\n",
    "#Passengers Travelling along someone\n",
    "non_solo_passengers = final_titanic_data[final_titanic_data['Family members'] >= 1]\n",
    "non_solo_passengers_survived = non_solo_passengers[non_solo_passengers['Survived'] == True]\n",
    "non_solo_passengers_not_survived = non_solo_passengers[non_solo_passengers['Survived'] == False]\n",
    "\n",
    "survived = np.array([len(solo_passengers_survived),len(non_solo_passengers_survived)])\n",
    "not_survived = np.array([len(solo_passengers_not_survived), len(non_solo_passengers_not_survived)])\n",
    "\n",
    "\n",
    "print('Stats')\n",
    "print()\n",
    "print('Number of Solo Passengers = {}'.format(len(solo_passengers)))\n",
    "print('Passengers Survivers Grouping')\n",
    "print(solo_passengers_survived.groupby('Pclass').size())\n",
    "print()\n",
    "print('Number of Passengers with Family= {}'.format(len(non_solo_passengers)))\n",
    "print('Passengers Survivers Grouping')\n",
    "print(non_solo_passengers_survived.groupby('Pclass').size())\n",
    "\n",
    "\n",
    "# Plotting the values\n",
    "N = 2\n",
    "ind = np.arange(N)\n",
    "width = 0.4\n",
    "\n",
    "fig, ax = plt.subplots(figsize=(10,7))\n",
    "plot1 = plt.bar(ind, survived, width, color = 'g', alpha = 0.58)\n",
    "plot2 = plt.bar(ind + width, not_survived, width, color = 'r', alpha = 0.58)\n",
    "ax.set_ylabel('No. of Passengers', fontsize = 16)\n",
    "ax.set_title('Analysis of Survival by accounting Family size', fontsize = 16)\n",
    "ax.set_xticks(ind + width / 2)\n",
    "ax.set_xticklabels(('Passengers Travelling Alone', 'Passengers with Family'), fontsize = 16)\n",
    "ax.legend((plot1[0], plot2[0]), ('Survivors', 'Non-Survivors'), fontsize = 14)\n",
    "plt.show()"
   ]
  },
  {
   "cell_type": "markdown",
   "metadata": {},
   "source": [
    "## Observation\n",
    "> The Stats shows that there's no direct relation between the Survivors who travelled alone or with Family.\n",
    "\n",
    "### Embarkation Point analysis."
   ]
  },
  {
   "cell_type": "code",
   "execution_count": 18,
   "metadata": {},
   "outputs": [
    {
     "name": "stdout",
     "output_type": "stream",
     "text": [
      "\u001b[1mSouthampton\u001b[0m\n",
      "\u001b[91mPassenger Stats\u001b[0m\n",
      "Pclass\n",
      "First     129\n",
      "Second    164\n",
      "Third     353\n",
      "dtype: int64\n",
      "\u001b[91mSurvivors Stats\u001b[0m\n",
      "Pclass\n",
      "First     76\n",
      "Second    76\n",
      "Third     67\n",
      "dtype: int64\n",
      "\n",
      "\u001b[1mCherbourg\u001b[0m\n",
      "\u001b[91mPassenger Stats\u001b[0m\n",
      "Pclass\n",
      "First     85\n",
      "Second    17\n",
      "Third     66\n",
      "dtype: int64\n",
      "\u001b[91mSurvivors Stats\u001b[0m\n",
      "Pclass\n",
      "First     59\n",
      "Second     9\n",
      "Third     25\n",
      "dtype: int64\n",
      "\n",
      "\u001b[1mQueenstown\u001b[0m\n",
      "\u001b[91mPassenger Stats\u001b[0m\n",
      "Pclass\n",
      "First      2\n",
      "Second     3\n",
      "Third     72\n",
      "dtype: int64\n",
      "\u001b[91mSurvivors Stats\u001b[0m\n",
      "Pclass\n",
      "First      1\n",
      "Second     2\n",
      "Third     27\n",
      "dtype: int64\n",
      "\n"
     ]
    },
    {
     "data": {
      "image/png": "[encoded data removed]",
      "text/plain": [
       "<matplotlib.figure.Figure at 0x827b2f0>"
      ]
     },
     "metadata": {},
     "output_type": "display_data"
    }
   ],
   "source": [
    "# Southampton Passengers\n",
    "southampton_passengers = final_titanic_data[final_titanic_data['Embarked'] == 'Southampton']\n",
    "southampton_survivors = southampton_passengers[southampton_passengers['Survived'] == True]\n",
    "southampton_non_survivors = southampton_passengers[southampton_passengers['Survived'] == False]\n",
    "\n",
    "# Cherbourg Passengers\n",
    "cherbourg_passengers = final_titanic_data[final_titanic_data['Embarked'] == 'Cherbourg']\n",
    "cherbourg_survivors = cherbourg_passengers[cherbourg_passengers['Survived'] == True]\n",
    "cherbourg_non_survivors = cherbourg_passengers[cherbourg_passengers['Survived'] == False]\n",
    "\n",
    "# Queenstown Passengers\n",
    "queenstown_passengers = final_titanic_data[final_titanic_data['Embarked'] == 'Queenstown']\n",
    "queenstown_survivors = queenstown_passengers[queenstown_passengers['Survived'] == True]\n",
    "queenstown_non_survivors = queenstown_passengers[queenstown_passengers['Survived'] == False]\n",
    "\n",
    "survivors = np.array([len(southampton_survivors), len(cherbourg_survivors), len(queenstown_survivors)])\n",
    "non_survivors = np.array([len(southampton_non_survivors), len(cherbourg_non_survivors), len(queenstown_non_survivors)])\n",
    "\n",
    "class color:\n",
    "   PURPLE = '\\033[95m'\n",
    "   CYAN = '\\033[96m'\n",
    "   DARKCYAN = '\\033[36m'\n",
    "   BLUE = '\\033[94m'\n",
    "   GREEN = '\\033[92m'\n",
    "   YELLOW = '\\033[93m'\n",
    "   RED = '\\033[91m'\n",
    "   BOLD = '\\033[1m'\n",
    "   UNDERLINE = '\\033[4m'\n",
    "   END = '\\033[0m'\n",
    "    \n",
    "\n",
    "print(color.BOLD + \"Southampton\" + color.END)\n",
    "print(color.RED + 'Passenger Stats' + color.END)\n",
    "print(southampton_passengers.groupby('Pclass').size())\n",
    "print(color.RED + 'Survivors Stats'+ color.END)\n",
    "print(southampton_survivors.groupby('Pclass').size())\n",
    "print()\n",
    "print(color.BOLD + \"Cherbourg\" + color.END)\n",
    "print(color.RED + 'Passenger Stats' + color.END)\n",
    "print(cherbourg_passengers.groupby('Pclass').size())\n",
    "print(color.RED + 'Survivors Stats'+ color.END)\n",
    "print(cherbourg_survivors.groupby('Pclass').size())\n",
    "print()\n",
    "print(color.BOLD + \"Queenstown\" + color.END)\n",
    "print(color.RED + 'Passenger Stats' + color.END)\n",
    "print(queenstown_passengers.groupby('Pclass').size())\n",
    "print(color.RED + 'Survivors Stats'+ color.END)\n",
    "print(queenstown_survivors.groupby('Pclass').size())\n",
    "print()\n",
    "\n",
    "# Plotting the values\n",
    "N = 3\n",
    "ind = np.arange(N)\n",
    "width = 0.4\n",
    "\n",
    "fig, ax = plt.subplots(figsize=(10,7))\n",
    "plot1 = plt.bar(ind, survivors, width, color = 'g', alpha = 0.58)\n",
    "plot2 = plt.bar(ind + width, non_survivors, width, color = 'r', alpha = 0.58)\n",
    "ax.set_ylabel('No. of Passengers', fontsize = 16)\n",
    "ax.set_title('Count of Survivors by Embarkation Point', fontsize = 16)\n",
    "ax.set_xticks(ind + width / 2)\n",
    "ax.set_xticklabels(('Southampton', 'Cherbourg', 'Queenstown'), fontsize = 16)\n",
    "ax.legend((plot1[0], plot2[0]), ('Survivors', 'Non-Survivors'), fontsize = 13)\n",
    "plt.show()"
   ]
  },
  {
   "cell_type": "markdown",
   "metadata": {},
   "source": [
    "## Observation\n",
    "1. From the Stats it is observed that the Embarkation Point didn't play role in the Survival of the passenger.\n",
    "2. Most of the passengers from Queenstown were from Third Class, therefore, the survivors from there were least.\n",
    "3. Cherbourg had passengers in First Class, more than second and third class therefore it's survivors ratio is most of all three.\n",
    "4. Southampton had most passengers out of all three."
   ]
  },
  {
   "cell_type": "markdown",
   "metadata": {},
   "source": [
    "# Conclusion\n",
    "1. It is concluded from the analysis that the **Women** were preferred way more in the rescue operation over **Men**.\n",
    "2. As the **Men** who survived were mostly of the **First Class** and **Third Class** shows that the **Passenger's Class** played a role in the survival as the number of Men from the **Second Class** were way too less in the number, and the **Men** who survived from the **Third Class** survived by other means and not by being a part of the rescue mission.\n",
    "3. **Age** can not be concluded if it played role in the survival, as most of the survivors were either Children and Young Adults, which also were in more proportion aboard. The missing age data for many passenegers is also the key here as the average ages were filled, and the actual age may vary far from the substituted age.\n",
    "4. The Secondary variables analysed don't show a direct relationship.\n",
    "5. **The data set is also not complete here with only 891 entries, where as passengers onboard the TITANIC were in much greater number, therefore, the data could be unitentionally biased on either survivors or non-survivors side.**"
   ]
  },
  {
   "cell_type": "markdown",
   "metadata": {},
   "source": [
    "# References\n",
    "1. The formatting of text from print statement was obtained from github.\n",
    "2. Matplotlib documentation for plotting the graphs.\n",
    "3. Pylab Pandas documentation for commands in data wrangling."
   ]
  }
 ],
 "metadata": {
  "kernelspec": {
   "display_name": "Python 3",
   "language": "python",
   "name": "python3"
  },
  "language_info": {
   "codemirror_mode": {
    "name": "ipython",
    "version": 3
   },
   "file_extension": ".py",
   "mimetype": "text/x-python",
   "name": "python",
   "nbconvert_exporter": "python",
   "pygments_lexer": "ipython3",
   "version": "3.6.1"
  }
 },
 "nbformat": 4,
 "nbformat_minor": 2
}
